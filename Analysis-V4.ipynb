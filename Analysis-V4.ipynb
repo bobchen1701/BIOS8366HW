{
 "cells": [
  {
   "cell_type": "markdown",
   "metadata": {},
   "source": [
    "# BIOS 8366 Final Project \n",
    "\n",
    "Bob Chen, <bob.chen@vanderbilt.edu> (worked alone)\n",
    "\n",
    "The dataset(s) used for the analyses described were obtained from Vanderbilt University Medical Center’s Synthetic Derivative which is supported by institutional funding and by the Vanderbilt CTSA grant ULTR000445 from NCATS/NIH\n",
    "\n",
    "# Modeling"
   ]
  },
  {
   "cell_type": "markdown",
   "metadata": {},
   "source": [
    "## Import packages"
   ]
  },
  {
   "cell_type": "code",
   "execution_count": 2,
   "metadata": {},
   "outputs": [],
   "source": [
    "import pandas as pd\n",
    "import numpy as np\n",
    "from sklearn.linear_model import LogisticRegression\n",
    "from sklearn.metrics import explained_variance_score,confusion_matrix\n",
    "from sklearn import svm,model_selection,preprocessing\n",
    "from sklearn.model_selection import GridSearchCV,RandomizedSearchCV\n",
    "from sklearn.ensemble import RandomForestClassifier\n",
    "import matplotlib.pyplot as plt\n",
    "import seaborn as sns\n",
    "from sklearn.preprocessing import RobustScaler"
   ]
  },
  {
   "cell_type": "markdown",
   "metadata": {},
   "source": [
    "## Load preprocessed data and scale it"
   ]
  },
  {
   "cell_type": "markdown",
   "metadata": {},
   "source": [
    "After loading the data into memory, we had to separate the target and predictor variables as well as indicate which of the columns should be the index, the RUID."
   ]
  },
  {
   "cell_type": "code",
   "execution_count": 11,
   "metadata": {},
   "outputs": [],
   "source": [
    "dataIn=pd.read_csv(\"Encoded_QC_Data_V3.csv\")"
   ]
  },
  {
   "cell_type": "code",
   "execution_count": 12,
   "metadata": {},
   "outputs": [],
   "source": [
    "dataIn.index=dataIn.pop('RUID')"
   ]
  },
  {
   "cell_type": "code",
   "execution_count": 13,
   "metadata": {},
   "outputs": [],
   "source": [
    "readmit=dataIn.pop('Threshold Readmit')"
   ]
  },
  {
   "cell_type": "markdown",
   "metadata": {},
   "source": [
    "Before any sort of model is built, I scaled the data using the RobustScaler, this was done because several of the features are on entirely different scales. For example, BMI values were usually between 10 and 40, whereas the number of measurements taken for BMI would be far greater. Thus, I opted to scale the values of each column with respect to itself. This reduced some of the bias that could have existed for inherently variable or high value features.  "
   ]
  },
  {
   "cell_type": "code",
   "execution_count": 20,
   "metadata": {},
   "outputs": [
    {
     "data": {
      "text/html": [
       "<div>\n",
       "<style scoped>\n",
       "    .dataframe tbody tr th:only-of-type {\n",
       "        vertical-align: middle;\n",
       "    }\n",
       "\n",
       "    .dataframe tbody tr th {\n",
       "        vertical-align: top;\n",
       "    }\n",
       "\n",
       "    .dataframe thead th {\n",
       "        text-align: right;\n",
       "    }\n",
       "</style>\n",
       "<table border=\"1\" class=\"dataframe\">\n",
       "  <thead>\n",
       "    <tr style=\"text-align: right;\">\n",
       "      <th></th>\n",
       "      <th>Female</th>\n",
       "      <th>Male</th>\n",
       "      <th>BMI Count</th>\n",
       "      <th>Mean BMI</th>\n",
       "      <th>BMI std</th>\n",
       "      <th>Min BMI</th>\n",
       "      <th>25% BMI</th>\n",
       "      <th>Med BMI</th>\n",
       "      <th>75% BMI</th>\n",
       "      <th>Max BMI</th>\n",
       "      <th>...</th>\n",
       "      <th>Med_Code_zofran</th>\n",
       "      <th>Med_Code_zoloft</th>\n",
       "      <th>Med_Code_zolpidem</th>\n",
       "      <th>Med_Code_zometa</th>\n",
       "      <th>Med_Code_zonisamide</th>\n",
       "      <th>Med_Code_zyprexa</th>\n",
       "      <th>Med_Code_zyrtec</th>\n",
       "      <th>DoB</th>\n",
       "      <th>MoB</th>\n",
       "      <th>YoB</th>\n",
       "    </tr>\n",
       "    <tr>\n",
       "      <th>RUID</th>\n",
       "      <th></th>\n",
       "      <th></th>\n",
       "      <th></th>\n",
       "      <th></th>\n",
       "      <th></th>\n",
       "      <th></th>\n",
       "      <th></th>\n",
       "      <th></th>\n",
       "      <th></th>\n",
       "      <th></th>\n",
       "      <th></th>\n",
       "      <th></th>\n",
       "      <th></th>\n",
       "      <th></th>\n",
       "      <th></th>\n",
       "      <th></th>\n",
       "      <th></th>\n",
       "      <th></th>\n",
       "      <th></th>\n",
       "      <th></th>\n",
       "      <th></th>\n",
       "    </tr>\n",
       "  </thead>\n",
       "  <tbody>\n",
       "    <tr>\n",
       "      <th>50135262</th>\n",
       "      <td>0.0</td>\n",
       "      <td>0.0</td>\n",
       "      <td>0.938776</td>\n",
       "      <td>1.709327</td>\n",
       "      <td>1.566829</td>\n",
       "      <td>1.470357</td>\n",
       "      <td>-0.276394</td>\n",
       "      <td>1.766532</td>\n",
       "      <td>1.778802</td>\n",
       "      <td>1.729090</td>\n",
       "      <td>...</td>\n",
       "      <td>0.0</td>\n",
       "      <td>0.0</td>\n",
       "      <td>0.0</td>\n",
       "      <td>0.0</td>\n",
       "      <td>0.0</td>\n",
       "      <td>0.0</td>\n",
       "      <td>0.0</td>\n",
       "      <td>0.266667</td>\n",
       "      <td>0.333333</td>\n",
       "      <td>-0.342857</td>\n",
       "    </tr>\n",
       "    <tr>\n",
       "      <th>50135361</th>\n",
       "      <td>-1.0</td>\n",
       "      <td>1.0</td>\n",
       "      <td>2.346939</td>\n",
       "      <td>0.475002</td>\n",
       "      <td>0.978970</td>\n",
       "      <td>0.902344</td>\n",
       "      <td>-1.081851</td>\n",
       "      <td>0.261269</td>\n",
       "      <td>0.567844</td>\n",
       "      <td>0.585739</td>\n",
       "      <td>...</td>\n",
       "      <td>0.0</td>\n",
       "      <td>0.0</td>\n",
       "      <td>0.0</td>\n",
       "      <td>0.0</td>\n",
       "      <td>0.0</td>\n",
       "      <td>0.0</td>\n",
       "      <td>0.0</td>\n",
       "      <td>-0.066667</td>\n",
       "      <td>-0.833333</td>\n",
       "      <td>-0.828571</td>\n",
       "    </tr>\n",
       "    <tr>\n",
       "      <th>50135369</th>\n",
       "      <td>-1.0</td>\n",
       "      <td>1.0</td>\n",
       "      <td>1.795918</td>\n",
       "      <td>-0.050978</td>\n",
       "      <td>-0.286544</td>\n",
       "      <td>-0.320446</td>\n",
       "      <td>-0.454330</td>\n",
       "      <td>-0.004588</td>\n",
       "      <td>-0.033794</td>\n",
       "      <td>-0.066864</td>\n",
       "      <td>...</td>\n",
       "      <td>0.0</td>\n",
       "      <td>0.0</td>\n",
       "      <td>0.0</td>\n",
       "      <td>0.0</td>\n",
       "      <td>0.0</td>\n",
       "      <td>0.0</td>\n",
       "      <td>0.0</td>\n",
       "      <td>-0.800000</td>\n",
       "      <td>-0.333333</td>\n",
       "      <td>-0.085714</td>\n",
       "    </tr>\n",
       "    <tr>\n",
       "      <th>50135375</th>\n",
       "      <td>-1.0</td>\n",
       "      <td>1.0</td>\n",
       "      <td>3.306122</td>\n",
       "      <td>-0.007740</td>\n",
       "      <td>0.102938</td>\n",
       "      <td>0.055887</td>\n",
       "      <td>0.088968</td>\n",
       "      <td>-0.073144</td>\n",
       "      <td>0.010241</td>\n",
       "      <td>-0.019245</td>\n",
       "      <td>...</td>\n",
       "      <td>0.0</td>\n",
       "      <td>0.0</td>\n",
       "      <td>0.0</td>\n",
       "      <td>0.0</td>\n",
       "      <td>0.0</td>\n",
       "      <td>0.0</td>\n",
       "      <td>0.0</td>\n",
       "      <td>-1.000000</td>\n",
       "      <td>-0.333333</td>\n",
       "      <td>-0.514286</td>\n",
       "    </tr>\n",
       "    <tr>\n",
       "      <th>50135425</th>\n",
       "      <td>0.0</td>\n",
       "      <td>0.0</td>\n",
       "      <td>1.428571</td>\n",
       "      <td>0.633938</td>\n",
       "      <td>1.221556</td>\n",
       "      <td>1.136740</td>\n",
       "      <td>0.661922</td>\n",
       "      <td>0.485560</td>\n",
       "      <td>0.518177</td>\n",
       "      <td>0.600049</td>\n",
       "      <td>...</td>\n",
       "      <td>0.0</td>\n",
       "      <td>0.0</td>\n",
       "      <td>0.0</td>\n",
       "      <td>0.0</td>\n",
       "      <td>0.0</td>\n",
       "      <td>0.0</td>\n",
       "      <td>0.0</td>\n",
       "      <td>-0.933333</td>\n",
       "      <td>0.500000</td>\n",
       "      <td>-0.428571</td>\n",
       "    </tr>\n",
       "  </tbody>\n",
       "</table>\n",
       "<p>5 rows × 3017 columns</p>\n",
       "</div>"
      ],
      "text/plain": [
       "          Female  Male  BMI Count  Mean BMI   BMI std   Min BMI   25% BMI  \\\n",
       "RUID                                                                        \n",
       "50135262     0.0   0.0   0.938776  1.709327  1.566829  1.470357 -0.276394   \n",
       "50135361    -1.0   1.0   2.346939  0.475002  0.978970  0.902344 -1.081851   \n",
       "50135369    -1.0   1.0   1.795918 -0.050978 -0.286544 -0.320446 -0.454330   \n",
       "50135375    -1.0   1.0   3.306122 -0.007740  0.102938  0.055887  0.088968   \n",
       "50135425     0.0   0.0   1.428571  0.633938  1.221556  1.136740  0.661922   \n",
       "\n",
       "           Med BMI   75% BMI   Max BMI    ...     Med_Code_zofran  \\\n",
       "RUID                                      ...                       \n",
       "50135262  1.766532  1.778802  1.729090    ...                 0.0   \n",
       "50135361  0.261269  0.567844  0.585739    ...                 0.0   \n",
       "50135369 -0.004588 -0.033794 -0.066864    ...                 0.0   \n",
       "50135375 -0.073144  0.010241 -0.019245    ...                 0.0   \n",
       "50135425  0.485560  0.518177  0.600049    ...                 0.0   \n",
       "\n",
       "          Med_Code_zoloft  Med_Code_zolpidem  Med_Code_zometa  \\\n",
       "RUID                                                            \n",
       "50135262              0.0                0.0              0.0   \n",
       "50135361              0.0                0.0              0.0   \n",
       "50135369              0.0                0.0              0.0   \n",
       "50135375              0.0                0.0              0.0   \n",
       "50135425              0.0                0.0              0.0   \n",
       "\n",
       "          Med_Code_zonisamide  Med_Code_zyprexa  Med_Code_zyrtec       DoB  \\\n",
       "RUID                                                                         \n",
       "50135262                  0.0               0.0              0.0  0.266667   \n",
       "50135361                  0.0               0.0              0.0 -0.066667   \n",
       "50135369                  0.0               0.0              0.0 -0.800000   \n",
       "50135375                  0.0               0.0              0.0 -1.000000   \n",
       "50135425                  0.0               0.0              0.0 -0.933333   \n",
       "\n",
       "               MoB       YoB  \n",
       "RUID                          \n",
       "50135262  0.333333 -0.342857  \n",
       "50135361 -0.833333 -0.828571  \n",
       "50135369 -0.333333 -0.085714  \n",
       "50135375 -0.333333 -0.514286  \n",
       "50135425  0.500000 -0.428571  \n",
       "\n",
       "[5 rows x 3017 columns]"
      ]
     },
     "execution_count": 20,
     "metadata": {},
     "output_type": "execute_result"
    }
   ],
   "source": [
    "rs_transformer = RobustScaler().fit(dataIn)\n",
    "rs_transformed=rs_transformer.transform(dataIn)\n",
    "rs_df=pd.DataFrame(rs_transformed)\n",
    "rs_df.columns=dataIn.columns\n",
    "rs_df.index=dataIn.index\n",
    "dataIn=rs_df\n",
    "dataIn.head()"
   ]
  },
  {
   "cell_type": "markdown",
   "metadata": {},
   "source": [
    "## Data partitioning, Model building, and rationale"
   ]
  },
  {
   "cell_type": "markdown",
   "metadata": {},
   "source": [
    "In total I tried three strategies with respect to the type of available data in the preprocessed dataset. With these data partitioning strategies, I then applied three different modeling strategies to each one of them. \n",
    "\n",
    "__My goal with these strategies was to train a model that could predict, if given some features, whether or not a patient has experienced a readmission event within 30 days of being discharged, generally.__\n",
    "\n",
    "__In total I tried 9 combinations of different partitions of data to use and modeling methods. Interpretation of the accuracy scores and future directions in analysis is included at the end of this notebook.__\n",
    "\n",
    "__Data partitioning strategy 1, No coded categorical features:__ Due to how I one-hot encoded the coded categorical values present in the CPT, ICD9, LAB, and MED the resulting one-hot encoded features became very sparse. Which can be concerning due to the curse of dimensionality. I reasoned that perhaps the features with the continuous variables would be more informative in the end. Therefore, this partitioning was designed to observe the predictive power of just the continuous variables (like BMI, EGFR, etc.) since they were more information-dense than the one-hot encoded features.\n",
    "\n",
    "__Data partitioning strategy 2, Only coded categorical features:__ It was also possible that the coded features contained the most vital information, as in a way, the coding with some procedure, ICD9 code, etc. was a value designated by integrating all available information at the time. This is meant in the sense that a human medical professional integrated all of the biometric information, lab tests, and previous records, and then used all of this to make a classification to code the patient. Although sparse, it was interesting to see how our three modeling strategies would perform.\n",
    "\n",
    "__Data partitioning strategy 3, All features available__ : This was simply the \"throw in as many features as possible\" strategy. The incorporation of the dense, continuous features in combination with the sparse, one-hot encoded variables could possibly be the most informative combination of predictor variables. It would take the advantages (and disadvantages) of both partitions of the full dataset for model building. This was the slowest partitioning strategy to train with the models, likely due to the variety and increased number of features. \n",
    "\n",
    "__Modeling strategy 1, Logistic regression + CV:__ This was the simplest and fastest modeling strategy, there were few parameters to optimize.\n",
    "\n",
    "__Modeling strategy 2, Radial basis function support vector classifier + GridsearchCV:__ This was the slowest modeling strategy, but it's performance has been reasonable in the past and there were relatively few hyperparameters to optimize compared to random forests.  \n",
    "\n",
    "__Modeling strategy 3, Random forest classifier + GridsearchCV:__ This was a balanced modeling strategy, it's performance has been very good in the past and there are a good amount of hyperparameters to tune using gridsearch which can be completed relatively quickly. It also comes with the advantage that I could visualize the best performing classifier, which allows for an intuitive interpretation of the models.\n",
    "\n",
    "\n",
    "\n"
   ]
  },
  {
   "cell_type": "markdown",
   "metadata": {},
   "source": [
    "## First strategy: No coded categorical values"
   ]
  },
  {
   "cell_type": "markdown",
   "metadata": {},
   "source": [
    "__Logistic regression__\n",
    "\n",
    "Started by removing the non_categorical_columns and splitting up the data into training and testing sets, doing 5-fold cross-validation, with surprisingly accurate results. "
   ]
  },
  {
   "cell_type": "code",
   "execution_count": 17,
   "metadata": {},
   "outputs": [],
   "source": [
    "non_categorical_columns=['Female','Male','BMI Count','Mean BMI','BMI std','Min BMI','25% BMI','Med BMI','75% BMI','Max BMI','Mean Weight','Weight std','Min Weight',\n",
    " '25% Weight','Med Weight','75% Weight','Max Weight','Mean Height','Height std','Min Height','25% Height','Med Height','75% Height','Max Height','Pregnancy','BP Count',\n",
    " 'Mean Systolic','Systolic std','Min Systolic','25% Systolic','Med Systolic','75% Systolic','Max Systolic','Mean Diastolic','Diastolic std','Min Diastolic','25% Diastolic',\n",
    " 'Med Diastolic','75% Diastolic','Max Diastolic','S/D Ratio','EGFR Count','Mean EGFR','EGFR std','Min EGFR','25% EGFR','Med EGFR','75% EGFR','Max EGFR','Top_CPT_Count','Unique_CPTs',\n",
    " 'Total_CPT_Count','Top_ICD9_Count','Unique_ICD9s','Total_ICD9_Count','Top_Lab_Count','Unique_Labs','Total_Lab_Count','Top_Med_Count','Unique_Meds','Total_Med_Count','DoB', 'MoB', 'YoB']"
   ]
  },
  {
   "cell_type": "code",
   "execution_count": 21,
   "metadata": {},
   "outputs": [],
   "source": [
    "data_1=dataIn[non_categorical_columns]"
   ]
  },
  {
   "cell_type": "code",
   "execution_count": 24,
   "metadata": {},
   "outputs": [],
   "source": [
    "X_train_1, X_test_1, y_train_1, y_test_1 = model_selection.train_test_split(data_1, readmit, test_size=0.2, random_state=0)"
   ]
  },
  {
   "cell_type": "code",
   "execution_count": 25,
   "metadata": {},
   "outputs": [],
   "source": [
    "logreg_1 = LogisticRegression(solver='lbfgs',max_iter=20000,n_jobs=8)"
   ]
  },
  {
   "cell_type": "code",
   "execution_count": 26,
   "metadata": {},
   "outputs": [
    {
     "data": {
      "text/plain": [
       "array([0.73828125, 0.74609375, 0.75749674, 0.75880052, 0.75880052])"
      ]
     },
     "execution_count": 26,
     "metadata": {},
     "output_type": "execute_result"
    }
   ],
   "source": [
    "scores_log_reg_1 = model_selection.cross_val_score(logreg_1, X_train_1, y_train_1, cv=5)\n",
    "scores_log_reg_1"
   ]
  },
  {
   "cell_type": "code",
   "execution_count": 27,
   "metadata": {},
   "outputs": [
    {
     "data": {
      "text/plain": [
       "LogisticRegression(C=1.0, class_weight=None, dual=False, fit_intercept=True,\n",
       "          intercept_scaling=1, max_iter=20000, multi_class='warn',\n",
       "          n_jobs=8, penalty='l2', random_state=None, solver='lbfgs',\n",
       "          tol=0.0001, verbose=0, warm_start=False)"
      ]
     },
     "execution_count": 27,
     "metadata": {},
     "output_type": "execute_result"
    }
   ],
   "source": [
    "logreg_1.fit(X_train_1,y_train_1)"
   ]
  },
  {
   "cell_type": "code",
   "execution_count": 120,
   "metadata": {},
   "outputs": [],
   "source": [
    "pred_1_log=logreg_1.predict(X_test_1)"
   ]
  },
  {
   "cell_type": "code",
   "execution_count": 122,
   "metadata": {},
   "outputs": [],
   "source": [
    "logreg_1_score=logreg_1.score(X_test_1, y_test_1)"
   ]
  },
  {
   "cell_type": "code",
   "execution_count": 121,
   "metadata": {},
   "outputs": [],
   "source": [
    "logreg_1_confusion=confusion_matrix(y_test_1, pred_1_log)"
   ]
  },
  {
   "cell_type": "markdown",
   "metadata": {},
   "source": [
    "__Support Vector Classifier__\n",
    "\n",
    "Started with an arbitrary gamma for the SVC, tried 5-fold cross-validation to unimpressive accuracy scores. Then optimized gamma using GridSearchCV, with underwhelming results."
   ]
  },
  {
   "cell_type": "code",
   "execution_count": 149,
   "metadata": {},
   "outputs": [
    {
     "data": {
      "text/plain": [
       "0.5458333333333333"
      ]
     },
     "execution_count": 149,
     "metadata": {},
     "output_type": "execute_result"
    }
   ],
   "source": [
    "svc_rbf_1 = svm.SVC(kernel='rbf', gamma=10,random_state=42)\n",
    "svc_rbf_1.fit(X_train_1,y_train_1)\n",
    "svc_rbf_1.score(X_test_1,y_test_1)"
   ]
  },
  {
   "cell_type": "code",
   "execution_count": 148,
   "metadata": {},
   "outputs": [
    {
     "data": {
      "text/plain": [
       "array([0.56380208, 0.56380208, 0.56323338, 0.56323338, 0.56323338])"
      ]
     },
     "execution_count": 148,
     "metadata": {},
     "output_type": "execute_result"
    }
   ],
   "source": [
    "svc_rbf_1_scores = model_selection.cross_val_score(svc_rbf_1, X_train_1, y_train_1, cv=5)\n",
    "svc_rbf_1_scores"
   ]
  },
  {
   "cell_type": "code",
   "execution_count": 155,
   "metadata": {},
   "outputs": [],
   "source": [
    "gamma = [0.001,0.01,1,10,100,1000]\n",
    "\n",
    "svc_parameter_grid_1 = {'gamma': gamma}"
   ]
  },
  {
   "cell_type": "code",
   "execution_count": 156,
   "metadata": {},
   "outputs": [
    {
     "name": "stdout",
     "output_type": "stream",
     "text": [
      "Fitting 5 folds for each of 6 candidates, totalling 30 fits\n"
     ]
    },
    {
     "name": "stderr",
     "output_type": "stream",
     "text": [
      "[Parallel(n_jobs=8)]: Using backend LokyBackend with 8 concurrent workers.\n",
      "[Parallel(n_jobs=8)]: Done  26 out of  30 | elapsed:    7.7s remaining:    1.2s\n",
      "[Parallel(n_jobs=8)]: Done  30 out of  30 | elapsed:    8.3s finished\n"
     ]
    },
    {
     "data": {
      "text/plain": [
       "GridSearchCV(cv=5, error_score='raise-deprecating',\n",
       "       estimator=SVC(C=1.0, cache_size=200, class_weight=None, coef0=0.0,\n",
       "  decision_function_shape='ovr', degree=3, gamma=10, kernel='rbf',\n",
       "  max_iter=-1, probability=False, random_state=42, shrinking=True,\n",
       "  tol=0.001, verbose=False),\n",
       "       fit_params=None, iid='warn', n_jobs=8,\n",
       "       param_grid={'gamma': [0.001, 0.01, 1, 10, 100, 1000]},\n",
       "       pre_dispatch='2*n_jobs', refit=True, return_train_score='warn',\n",
       "       scoring=None, verbose=3)"
      ]
     },
     "execution_count": 156,
     "metadata": {},
     "output_type": "execute_result"
    }
   ],
   "source": [
    "svc_rbf_cv_1=GridSearchCV(estimator=svc_rbf_1, param_grid=svc_parameter_grid_1, n_jobs=8, verbose=3, cv=5)\n",
    "svc_rbf_cv_1.fit(X_train_1, y_train_1)"
   ]
  },
  {
   "cell_type": "code",
   "execution_count": 160,
   "metadata": {},
   "outputs": [
    {
     "data": {
      "text/plain": [
       "{'gamma': 0.01}"
      ]
     },
     "execution_count": 160,
     "metadata": {},
     "output_type": "execute_result"
    }
   ],
   "source": [
    "svc_rbf_cv_1.best_params_"
   ]
  },
  {
   "cell_type": "code",
   "execution_count": 200,
   "metadata": {},
   "outputs": [],
   "source": [
    "pred_1_svc_rbf_cv=svc_rbf_cv_1.predict(X_test_1)"
   ]
  },
  {
   "cell_type": "code",
   "execution_count": 201,
   "metadata": {},
   "outputs": [],
   "source": [
    "svc_rbf_cv_1_score=svc_rbf_cv_1.score(X_test_1, y_test_1)"
   ]
  },
  {
   "cell_type": "code",
   "execution_count": 202,
   "metadata": {},
   "outputs": [],
   "source": [
    "svc_rbf_cv_1_confusion=confusion_matrix(y_test_1, pred_1_svc_rbf_cv)"
   ]
  },
  {
   "cell_type": "markdown",
   "metadata": {},
   "source": [
    "__Random Forest Classifier__\n",
    "\n",
    "Went right into GridSearchCV due to the number of hyperparameters to optimize, then visualized the top 30 classifiers."
   ]
  },
  {
   "cell_type": "code",
   "execution_count": 57,
   "metadata": {},
   "outputs": [],
   "source": [
    "n_estimators = [1,2,3,4,5,6]\n",
    "max_depth = [1,2,3,4,5,6]\n",
    "max_features = [5,10,15,20,25]\n",
    "\n",
    "parameter_grid_1 = {'n_estimators': n_estimators,\n",
    "               'max_depth': max_depth,\n",
    "               'max_features': max_features}"
   ]
  },
  {
   "cell_type": "code",
   "execution_count": 58,
   "metadata": {},
   "outputs": [
    {
     "name": "stdout",
     "output_type": "stream",
     "text": [
      "Fitting 5 folds for each of 180 candidates, totalling 900 fits\n"
     ]
    },
    {
     "name": "stderr",
     "output_type": "stream",
     "text": [
      "[Parallel(n_jobs=8)]: Using backend LokyBackend with 8 concurrent workers.\n",
      "[Parallel(n_jobs=8)]: Done  16 tasks      | elapsed:    0.7s\n",
      "[Parallel(n_jobs=8)]: Done 208 tasks      | elapsed:    7.8s\n",
      "[Parallel(n_jobs=8)]: Done 528 tasks      | elapsed:   19.8s\n",
      "[Parallel(n_jobs=8)]: Done 900 out of 900 | elapsed:   33.7s finished\n"
     ]
    },
    {
     "data": {
      "text/plain": [
       "GridSearchCV(cv=5, error_score='raise-deprecating',\n",
       "       estimator=RandomForestClassifier(bootstrap=True, class_weight=None, criterion='entropy',\n",
       "            max_depth=None, max_features='auto', max_leaf_nodes=None,\n",
       "            min_impurity_decrease=0.0, min_impurity_split=None,\n",
       "            min_samples_leaf=1, min_samples_split=2,\n",
       "            min_weight_fraction_leaf=0.0, n_estimators='warn', n_jobs=8,\n",
       "            oob_score=False, random_state=42, verbose=0, warm_start=False),\n",
       "       fit_params=None, iid='warn', n_jobs=8,\n",
       "       param_grid={'n_estimators': [1, 2, 3, 4, 5, 6], 'max_depth': [1, 2, 3, 4, 5, 6], 'max_features': [5, 10, 15, 20, 25]},\n",
       "       pre_dispatch='2*n_jobs', refit=True, return_train_score='warn',\n",
       "       scoring=None, verbose=3)"
      ]
     },
     "execution_count": 58,
     "metadata": {},
     "output_type": "execute_result"
    }
   ],
   "source": [
    "rf_1 = RandomForestClassifier(n_jobs=8, criterion='entropy',random_state=42) #default criterion\n",
    "rf_cv_1 = GridSearchCV(estimator=rf_1, param_grid=parameter_grid_1, n_jobs=8, verbose=3, cv=5)\n",
    "rf_cv_1.fit(X_train_1, y_train_1)"
   ]
  },
  {
   "cell_type": "code",
   "execution_count": 59,
   "metadata": {},
   "outputs": [
    {
     "data": {
      "text/plain": [
       "{'max_depth': 4, 'max_features': 15, 'n_estimators': 5}"
      ]
     },
     "execution_count": 59,
     "metadata": {},
     "output_type": "execute_result"
    }
   ],
   "source": [
    "rf_cv_1.best_params_"
   ]
  },
  {
   "cell_type": "code",
   "execution_count": 64,
   "metadata": {},
   "outputs": [],
   "source": [
    "top30feats_1=np.argsort(rf_cv_1.best_estimator_.feature_importances_)[::-1][0:30]"
   ]
  },
  {
   "cell_type": "code",
   "execution_count": 65,
   "metadata": {},
   "outputs": [
    {
     "data": {
      "text/plain": [
       "<matplotlib.axes._subplots.AxesSubplot at 0x11bfe59b0>"
      ]
     },
     "execution_count": 65,
     "metadata": {},
     "output_type": "execute_result"
    },
    {
     "data": {
      "image/png": "[encoded data removed]",
      "text/plain": [
       "<Figure size 1440x576 with 1 Axes>"
      ]
     },
     "metadata": {
      "needs_background": "light"
     },
     "output_type": "display_data"
    }
   ],
   "source": [
    "plt.figure(figsize=(20,8))\n",
    "pd.Series(rf_cv_1.best_estimator_.feature_importances_[top30feats_1], index=X_train_1.columns[top30feats_1]).sort_values().plot.barh()"
   ]
  },
  {
   "cell_type": "code",
   "execution_count": 208,
   "metadata": {},
   "outputs": [],
   "source": [
    "pred_1_rf_cv=rf_cv_1.predict(X_test_1)"
   ]
  },
  {
   "cell_type": "code",
   "execution_count": 209,
   "metadata": {},
   "outputs": [],
   "source": [
    "rf_cv_1_score=rf_cv_1.score(X_test_1, y_test_1)"
   ]
  },
  {
   "cell_type": "code",
   "execution_count": 210,
   "metadata": {},
   "outputs": [],
   "source": [
    "rf_cv_1_confusion=confusion_matrix(y_test_1, pred_1_rf_cv)"
   ]
  },
  {
   "cell_type": "markdown",
   "metadata": {},
   "source": [
    "## Second strategy: Only coded categorical values"
   ]
  },
  {
   "cell_type": "markdown",
   "metadata": {},
   "source": [
    "__Logistic regression__\n",
    "\n",
    "Started by removing the non_categorical_columns and splitting up the data into training and testing sets, 5-fold cross-validation was more within expectations this time."
   ]
  },
  {
   "cell_type": "code",
   "execution_count": 70,
   "metadata": {},
   "outputs": [],
   "source": [
    "non_categorical_columns=['Female','Male','BMI Count','Mean BMI','BMI std','Min BMI','25% BMI','Med BMI','75% BMI','Max BMI','Mean Weight','Weight std','Min Weight',\n",
    " '25% Weight','Med Weight','75% Weight','Max Weight','Mean Height','Height std','Min Height','25% Height','Med Height','75% Height','Max Height','Pregnancy','BP Count',\n",
    " 'Mean Systolic','Systolic std','Min Systolic','25% Systolic','Med Systolic','75% Systolic','Max Systolic','Mean Diastolic','Diastolic std','Min Diastolic','25% Diastolic',\n",
    " 'Med Diastolic','75% Diastolic','Max Diastolic','S/D Ratio','EGFR Count','Mean EGFR','EGFR std','Min EGFR','25% EGFR','Med EGFR','75% EGFR','Max EGFR','Top_CPT_Count','Unique_CPTs',\n",
    " 'Total_CPT_Count','Top_ICD9_Count','Unique_ICD9s','Total_ICD9_Count','Top_Lab_Count','Unique_Labs','Total_Lab_Count','Top_Med_Count','Unique_Meds','Total_Med_Count','DoB', 'MoB', 'YoB']"
   ]
  },
  {
   "cell_type": "code",
   "execution_count": 71,
   "metadata": {},
   "outputs": [],
   "source": [
    "data_2=dataIn.drop(non_categorical_columns,axis=1)"
   ]
  },
  {
   "cell_type": "code",
   "execution_count": 72,
   "metadata": {},
   "outputs": [],
   "source": [
    "X_train_2, X_test_2, y_train_2, y_test_2 = model_selection.train_test_split(data_2, readmit, test_size=0.2, random_state=0)"
   ]
  },
  {
   "cell_type": "code",
   "execution_count": 73,
   "metadata": {},
   "outputs": [],
   "source": [
    "logreg_2 = LogisticRegression(solver='lbfgs',max_iter=20000,n_jobs=8)"
   ]
  },
  {
   "cell_type": "code",
   "execution_count": 74,
   "metadata": {},
   "outputs": [
    {
     "data": {
      "text/plain": [
       "array([0.67708333, 0.65885417, 0.66883963, 0.68839635, 0.65840939])"
      ]
     },
     "execution_count": 74,
     "metadata": {},
     "output_type": "execute_result"
    }
   ],
   "source": [
    "scores_log_reg_2 = model_selection.cross_val_score(logreg_2, X_train_2, y_train_2, cv=5)\n",
    "scores_log_reg_2"
   ]
  },
  {
   "cell_type": "code",
   "execution_count": 75,
   "metadata": {},
   "outputs": [
    {
     "data": {
      "text/plain": [
       "LogisticRegression(C=1.0, class_weight=None, dual=False, fit_intercept=True,\n",
       "          intercept_scaling=1, max_iter=20000, multi_class='warn',\n",
       "          n_jobs=8, penalty='l2', random_state=None, solver='lbfgs',\n",
       "          tol=0.0001, verbose=0, warm_start=False)"
      ]
     },
     "execution_count": 75,
     "metadata": {},
     "output_type": "execute_result"
    }
   ],
   "source": [
    "logreg_2.fit(X_train_2,y_train_2)"
   ]
  },
  {
   "cell_type": "code",
   "execution_count": 76,
   "metadata": {},
   "outputs": [],
   "source": [
    "pred_2_log=logreg_2.predict(X_test_2)"
   ]
  },
  {
   "cell_type": "code",
   "execution_count": 125,
   "metadata": {},
   "outputs": [],
   "source": [
    "logreg_2_score=logreg_2.score(X_test_2, y_test_2)"
   ]
  },
  {
   "cell_type": "code",
   "execution_count": 126,
   "metadata": {},
   "outputs": [],
   "source": [
    "logreg_2_confusion=confusion_matrix(y_test_2, pred_2_log)"
   ]
  },
  {
   "cell_type": "markdown",
   "metadata": {},
   "source": [
    "__Support Vector Classifier__\n",
    "\n",
    "Slow and poor performance with an SVC, even after using GridSearchCV to find more optimal hyperparameters."
   ]
  },
  {
   "cell_type": "code",
   "execution_count": 167,
   "metadata": {},
   "outputs": [
    {
     "data": {
      "text/plain": [
       "0.5708333333333333"
      ]
     },
     "execution_count": 167,
     "metadata": {},
     "output_type": "execute_result"
    }
   ],
   "source": [
    "svc_rbf_2 = svm.SVC(kernel='rbf', gamma=10,random_state=42)\n",
    "svc_rbf_2.fit(X_train_2,y_train_2)\n",
    "svc_rbf_2.score(X_test_2,y_test_2)"
   ]
  },
  {
   "cell_type": "code",
   "execution_count": 168,
   "metadata": {},
   "outputs": [
    {
     "data": {
      "text/plain": [
       "array([0.58072917, 0.57291667, 0.59452412, 0.61147327, 0.59191656])"
      ]
     },
     "execution_count": 168,
     "metadata": {},
     "output_type": "execute_result"
    }
   ],
   "source": [
    "svc_rbf_2_scores = model_selection.cross_val_score(svc_rbf_2, X_train_2, y_train_2, cv=5)\n",
    "svc_rbf_2_scores"
   ]
  },
  {
   "cell_type": "code",
   "execution_count": 169,
   "metadata": {},
   "outputs": [],
   "source": [
    "gamma = [0.001,0.01,1,10]\n",
    "\n",
    "svc_parameter_grid_2 = {'gamma': gamma}"
   ]
  },
  {
   "cell_type": "code",
   "execution_count": 170,
   "metadata": {},
   "outputs": [
    {
     "name": "stdout",
     "output_type": "stream",
     "text": [
      "Fitting 5 folds for each of 6 candidates, totalling 30 fits\n"
     ]
    },
    {
     "name": "stderr",
     "output_type": "stream",
     "text": [
      "[Parallel(n_jobs=8)]: Using backend LokyBackend with 8 concurrent workers.\n",
      "[Parallel(n_jobs=8)]: Done  26 out of  30 | elapsed: 10.0min remaining:  1.5min\n",
      "[Parallel(n_jobs=8)]: Done  30 out of  30 | elapsed: 10.1min finished\n"
     ]
    },
    {
     "data": {
      "text/plain": [
       "GridSearchCV(cv=5, error_score='raise-deprecating',\n",
       "       estimator=SVC(C=1.0, cache_size=200, class_weight=None, coef0=0.0,\n",
       "  decision_function_shape='ovr', degree=3, gamma=10, kernel='rbf',\n",
       "  max_iter=-1, probability=False, random_state=42, shrinking=True,\n",
       "  tol=0.001, verbose=False),\n",
       "       fit_params=None, iid='warn', n_jobs=8,\n",
       "       param_grid={'gamma': [0.001, 0.01, 1, 10, 100, 1000]},\n",
       "       pre_dispatch='2*n_jobs', refit=True, return_train_score='warn',\n",
       "       scoring=None, verbose=3)"
      ]
     },
     "execution_count": 170,
     "metadata": {},
     "output_type": "execute_result"
    }
   ],
   "source": [
    "svc_rbf_cv_2=GridSearchCV(estimator=svc_rbf_2, param_grid=svc_parameter_grid_2, n_jobs=8, verbose=3, cv=5)\n",
    "svc_rbf_cv_2.fit(X_train_2, y_train_2)"
   ]
  },
  {
   "cell_type": "code",
   "execution_count": 173,
   "metadata": {},
   "outputs": [
    {
     "data": {
      "text/plain": [
       "{'gamma': 1}"
      ]
     },
     "execution_count": 173,
     "metadata": {},
     "output_type": "execute_result"
    }
   ],
   "source": [
    "svc_rbf_cv_2.best_params_"
   ]
  },
  {
   "cell_type": "code",
   "execution_count": 174,
   "metadata": {},
   "outputs": [],
   "source": [
    "pred_2_svc_rbf_cv=svc_rbf_cv_2.predict(X_test_2)"
   ]
  },
  {
   "cell_type": "code",
   "execution_count": 197,
   "metadata": {},
   "outputs": [],
   "source": [
    "svc_rbf_cv_2_score=svc_rbf_cv_2.score(X_test_2, y_test_2)"
   ]
  },
  {
   "cell_type": "code",
   "execution_count": 198,
   "metadata": {},
   "outputs": [],
   "source": [
    "svc_rbf_cv_2_confusion=confusion_matrix(y_test_2, pred_2_svc_rbf_cv)"
   ]
  },
  {
   "cell_type": "code",
   "execution_count": 199,
   "metadata": {},
   "outputs": [
    {
     "data": {
      "text/plain": [
       "0.6291666666666667"
      ]
     },
     "execution_count": 199,
     "metadata": {},
     "output_type": "execute_result"
    }
   ],
   "source": [
    "svc_rbf_cv_2_score"
   ]
  },
  {
   "cell_type": "code",
   "execution_count": 178,
   "metadata": {},
   "outputs": [
    {
     "data": {
      "text/plain": [
       "array([[475,  49],\n",
       "       [307, 129]])"
      ]
     },
     "execution_count": 178,
     "metadata": {},
     "output_type": "execute_result"
    }
   ],
   "source": [
    "rf_cv_2_confusion"
   ]
  },
  {
   "cell_type": "markdown",
   "metadata": {},
   "source": [
    "__Random Forest Classifier__\n",
    "\n",
    "Went right into GridSearchCV due to the number of hyperparameters to optimize, then visualized the top 30 classifiers."
   ]
  },
  {
   "cell_type": "code",
   "execution_count": 80,
   "metadata": {},
   "outputs": [],
   "source": [
    "n_estimators = [1,2,3,4,5,6]\n",
    "max_depth = [1,2,3,4,5,6]\n",
    "max_features = [5,10,15,20,25]\n",
    "\n",
    "parameter_grid_2 = {'n_estimators': n_estimators,\n",
    "               'max_depth': max_depth,\n",
    "               'max_features': max_features}"
   ]
  },
  {
   "cell_type": "code",
   "execution_count": 81,
   "metadata": {},
   "outputs": [
    {
     "name": "stdout",
     "output_type": "stream",
     "text": [
      "Fitting 5 folds for each of 180 candidates, totalling 900 fits\n"
     ]
    },
    {
     "name": "stderr",
     "output_type": "stream",
     "text": [
      "[Parallel(n_jobs=8)]: Using backend LokyBackend with 8 concurrent workers.\n",
      "[Parallel(n_jobs=8)]: Done  16 tasks      | elapsed:    1.2s\n",
      "[Parallel(n_jobs=8)]: Done 112 tasks      | elapsed:    6.9s\n",
      "[Parallel(n_jobs=8)]: Done 272 tasks      | elapsed:   15.7s\n",
      "[Parallel(n_jobs=8)]: Done 496 tasks      | elapsed:   28.4s\n",
      "[Parallel(n_jobs=8)]: Done 784 tasks      | elapsed:   44.5s\n",
      "[Parallel(n_jobs=8)]: Done 900 out of 900 | elapsed:   51.3s finished\n"
     ]
    },
    {
     "data": {
      "text/plain": [
       "GridSearchCV(cv=5, error_score='raise-deprecating',\n",
       "       estimator=RandomForestClassifier(bootstrap=True, class_weight=None, criterion='entropy',\n",
       "            max_depth=None, max_features='auto', max_leaf_nodes=None,\n",
       "            min_impurity_decrease=0.0, min_impurity_split=None,\n",
       "            min_samples_leaf=1, min_samples_split=2,\n",
       "            min_weight_fraction_leaf=0.0, n_estimators='warn', n_jobs=8,\n",
       "            oob_score=False, random_state=42, verbose=0, warm_start=False),\n",
       "       fit_params=None, iid='warn', n_jobs=8,\n",
       "       param_grid={'n_estimators': [1, 2, 3, 4, 5, 6], 'max_depth': [1, 2, 3, 4, 5, 6], 'max_features': [5, 10, 15, 20, 25]},\n",
       "       pre_dispatch='2*n_jobs', refit=True, return_train_score='warn',\n",
       "       scoring=None, verbose=3)"
      ]
     },
     "execution_count": 81,
     "metadata": {},
     "output_type": "execute_result"
    }
   ],
   "source": [
    "rf_2 = RandomForestClassifier(n_jobs=8, criterion='entropy',random_state=42) #default criterion\n",
    "rf_cv_2 = GridSearchCV(estimator=rf_2, param_grid=parameter_grid_2, n_jobs=8, verbose=3, cv=5,)\n",
    "rf_cv_2.fit(X_train_2, y_train_2)"
   ]
  },
  {
   "cell_type": "code",
   "execution_count": 82,
   "metadata": {},
   "outputs": [
    {
     "data": {
      "text/plain": [
       "{'max_depth': 5, 'max_features': 20, 'n_estimators': 3}"
      ]
     },
     "execution_count": 82,
     "metadata": {},
     "output_type": "execute_result"
    }
   ],
   "source": [
    "rf_cv_2.best_params_"
   ]
  },
  {
   "cell_type": "code",
   "execution_count": 83,
   "metadata": {},
   "outputs": [],
   "source": [
    "top30feats_2=np.argsort(rf_cv_2.best_estimator_.feature_importances_)[::-1][0:30]"
   ]
  },
  {
   "cell_type": "code",
   "execution_count": 84,
   "metadata": {},
   "outputs": [
    {
     "data": {
      "text/plain": [
       "<matplotlib.axes._subplots.AxesSubplot at 0x11c066630>"
      ]
     },
     "execution_count": 84,
     "metadata": {},
     "output_type": "execute_result"
    },
    {
     "data": {
      "image/png": "[encoded data removed]",
      "text/plain": [
       "<Figure size 1440x576 with 1 Axes>"
      ]
     },
     "metadata": {
      "needs_background": "light"
     },
     "output_type": "display_data"
    }
   ],
   "source": [
    "plt.figure(figsize=(20,8))\n",
    "pd.Series(rf_cv_2.best_estimator_.feature_importances_[top30feats_2], index=X_train_2.columns[top30feats_2]).sort_values().plot.barh()"
   ]
  },
  {
   "cell_type": "code",
   "execution_count": 211,
   "metadata": {},
   "outputs": [],
   "source": [
    "pred_2_rf_cv=rf_cv_2.predict(X_test_2)"
   ]
  },
  {
   "cell_type": "code",
   "execution_count": 212,
   "metadata": {},
   "outputs": [],
   "source": [
    "rf_cv_2_score=rf_cv_2.score(X_test_2, y_test_2)"
   ]
  },
  {
   "cell_type": "code",
   "execution_count": 213,
   "metadata": {},
   "outputs": [],
   "source": [
    "rf_cv_2_confusion=confusion_matrix(y_test_2, pred_2_rf_cv)"
   ]
  },
  {
   "cell_type": "markdown",
   "metadata": {},
   "source": [
    "## Third strategy: Full dataset"
   ]
  },
  {
   "cell_type": "markdown",
   "metadata": {},
   "source": [
    "__Logistic regression__\n",
    "\n",
    "Started by removing the non_categorical_columns and splitting up the data into training and testing sets, 5-fold cross-validation showed decent performance given the increased number and mixture of dimensions."
   ]
  },
  {
   "cell_type": "code",
   "execution_count": 88,
   "metadata": {},
   "outputs": [
    {
     "data": {
      "text/html": [
       "<div>\n",
       "<style scoped>\n",
       "    .dataframe tbody tr th:only-of-type {\n",
       "        vertical-align: middle;\n",
       "    }\n",
       "\n",
       "    .dataframe tbody tr th {\n",
       "        vertical-align: top;\n",
       "    }\n",
       "\n",
       "    .dataframe thead th {\n",
       "        text-align: right;\n",
       "    }\n",
       "</style>\n",
       "<table border=\"1\" class=\"dataframe\">\n",
       "  <thead>\n",
       "    <tr style=\"text-align: right;\">\n",
       "      <th></th>\n",
       "      <th>Female</th>\n",
       "      <th>Male</th>\n",
       "      <th>BMI Count</th>\n",
       "      <th>Mean BMI</th>\n",
       "      <th>BMI std</th>\n",
       "      <th>Min BMI</th>\n",
       "      <th>25% BMI</th>\n",
       "      <th>Med BMI</th>\n",
       "      <th>75% BMI</th>\n",
       "      <th>Max BMI</th>\n",
       "      <th>...</th>\n",
       "      <th>Med_Code_zofran</th>\n",
       "      <th>Med_Code_zoloft</th>\n",
       "      <th>Med_Code_zolpidem</th>\n",
       "      <th>Med_Code_zometa</th>\n",
       "      <th>Med_Code_zonisamide</th>\n",
       "      <th>Med_Code_zyprexa</th>\n",
       "      <th>Med_Code_zyrtec</th>\n",
       "      <th>DoB</th>\n",
       "      <th>MoB</th>\n",
       "      <th>YoB</th>\n",
       "    </tr>\n",
       "    <tr>\n",
       "      <th>RUID</th>\n",
       "      <th></th>\n",
       "      <th></th>\n",
       "      <th></th>\n",
       "      <th></th>\n",
       "      <th></th>\n",
       "      <th></th>\n",
       "      <th></th>\n",
       "      <th></th>\n",
       "      <th></th>\n",
       "      <th></th>\n",
       "      <th></th>\n",
       "      <th></th>\n",
       "      <th></th>\n",
       "      <th></th>\n",
       "      <th></th>\n",
       "      <th></th>\n",
       "      <th></th>\n",
       "      <th></th>\n",
       "      <th></th>\n",
       "      <th></th>\n",
       "      <th></th>\n",
       "    </tr>\n",
       "  </thead>\n",
       "  <tbody>\n",
       "    <tr>\n",
       "      <th>50135262</th>\n",
       "      <td>0.0</td>\n",
       "      <td>0.0</td>\n",
       "      <td>0.938776</td>\n",
       "      <td>1.709327</td>\n",
       "      <td>1.566829</td>\n",
       "      <td>1.470357</td>\n",
       "      <td>-0.276394</td>\n",
       "      <td>1.766532</td>\n",
       "      <td>1.778802</td>\n",
       "      <td>1.729090</td>\n",
       "      <td>...</td>\n",
       "      <td>0.0</td>\n",
       "      <td>0.0</td>\n",
       "      <td>0.0</td>\n",
       "      <td>0.0</td>\n",
       "      <td>0.0</td>\n",
       "      <td>0.0</td>\n",
       "      <td>0.0</td>\n",
       "      <td>0.266667</td>\n",
       "      <td>0.333333</td>\n",
       "      <td>-0.342857</td>\n",
       "    </tr>\n",
       "    <tr>\n",
       "      <th>50135361</th>\n",
       "      <td>-1.0</td>\n",
       "      <td>1.0</td>\n",
       "      <td>2.346939</td>\n",
       "      <td>0.475002</td>\n",
       "      <td>0.978970</td>\n",
       "      <td>0.902344</td>\n",
       "      <td>-1.081851</td>\n",
       "      <td>0.261269</td>\n",
       "      <td>0.567844</td>\n",
       "      <td>0.585739</td>\n",
       "      <td>...</td>\n",
       "      <td>0.0</td>\n",
       "      <td>0.0</td>\n",
       "      <td>0.0</td>\n",
       "      <td>0.0</td>\n",
       "      <td>0.0</td>\n",
       "      <td>0.0</td>\n",
       "      <td>0.0</td>\n",
       "      <td>-0.066667</td>\n",
       "      <td>-0.833333</td>\n",
       "      <td>-0.828571</td>\n",
       "    </tr>\n",
       "    <tr>\n",
       "      <th>50135369</th>\n",
       "      <td>-1.0</td>\n",
       "      <td>1.0</td>\n",
       "      <td>1.795918</td>\n",
       "      <td>-0.050978</td>\n",
       "      <td>-0.286544</td>\n",
       "      <td>-0.320446</td>\n",
       "      <td>-0.454330</td>\n",
       "      <td>-0.004588</td>\n",
       "      <td>-0.033794</td>\n",
       "      <td>-0.066864</td>\n",
       "      <td>...</td>\n",
       "      <td>0.0</td>\n",
       "      <td>0.0</td>\n",
       "      <td>0.0</td>\n",
       "      <td>0.0</td>\n",
       "      <td>0.0</td>\n",
       "      <td>0.0</td>\n",
       "      <td>0.0</td>\n",
       "      <td>-0.800000</td>\n",
       "      <td>-0.333333</td>\n",
       "      <td>-0.085714</td>\n",
       "    </tr>\n",
       "    <tr>\n",
       "      <th>50135375</th>\n",
       "      <td>-1.0</td>\n",
       "      <td>1.0</td>\n",
       "      <td>3.306122</td>\n",
       "      <td>-0.007740</td>\n",
       "      <td>0.102938</td>\n",
       "      <td>0.055887</td>\n",
       "      <td>0.088968</td>\n",
       "      <td>-0.073144</td>\n",
       "      <td>0.010241</td>\n",
       "      <td>-0.019245</td>\n",
       "      <td>...</td>\n",
       "      <td>0.0</td>\n",
       "      <td>0.0</td>\n",
       "      <td>0.0</td>\n",
       "      <td>0.0</td>\n",
       "      <td>0.0</td>\n",
       "      <td>0.0</td>\n",
       "      <td>0.0</td>\n",
       "      <td>-1.000000</td>\n",
       "      <td>-0.333333</td>\n",
       "      <td>-0.514286</td>\n",
       "    </tr>\n",
       "    <tr>\n",
       "      <th>50135425</th>\n",
       "      <td>0.0</td>\n",
       "      <td>0.0</td>\n",
       "      <td>1.428571</td>\n",
       "      <td>0.633938</td>\n",
       "      <td>1.221556</td>\n",
       "      <td>1.136740</td>\n",
       "      <td>0.661922</td>\n",
       "      <td>0.485560</td>\n",
       "      <td>0.518177</td>\n",
       "      <td>0.600049</td>\n",
       "      <td>...</td>\n",
       "      <td>0.0</td>\n",
       "      <td>0.0</td>\n",
       "      <td>0.0</td>\n",
       "      <td>0.0</td>\n",
       "      <td>0.0</td>\n",
       "      <td>0.0</td>\n",
       "      <td>0.0</td>\n",
       "      <td>-0.933333</td>\n",
       "      <td>0.500000</td>\n",
       "      <td>-0.428571</td>\n",
       "    </tr>\n",
       "  </tbody>\n",
       "</table>\n",
       "<p>5 rows × 3017 columns</p>\n",
       "</div>"
      ],
      "text/plain": [
       "          Female  Male  BMI Count  Mean BMI   BMI std   Min BMI   25% BMI  \\\n",
       "RUID                                                                        \n",
       "50135262     0.0   0.0   0.938776  1.709327  1.566829  1.470357 -0.276394   \n",
       "50135361    -1.0   1.0   2.346939  0.475002  0.978970  0.902344 -1.081851   \n",
       "50135369    -1.0   1.0   1.795918 -0.050978 -0.286544 -0.320446 -0.454330   \n",
       "50135375    -1.0   1.0   3.306122 -0.007740  0.102938  0.055887  0.088968   \n",
       "50135425     0.0   0.0   1.428571  0.633938  1.221556  1.136740  0.661922   \n",
       "\n",
       "           Med BMI   75% BMI   Max BMI    ...     Med_Code_zofran  \\\n",
       "RUID                                      ...                       \n",
       "50135262  1.766532  1.778802  1.729090    ...                 0.0   \n",
       "50135361  0.261269  0.567844  0.585739    ...                 0.0   \n",
       "50135369 -0.004588 -0.033794 -0.066864    ...                 0.0   \n",
       "50135375 -0.073144  0.010241 -0.019245    ...                 0.0   \n",
       "50135425  0.485560  0.518177  0.600049    ...                 0.0   \n",
       "\n",
       "          Med_Code_zoloft  Med_Code_zolpidem  Med_Code_zometa  \\\n",
       "RUID                                                            \n",
       "50135262              0.0                0.0              0.0   \n",
       "50135361              0.0                0.0              0.0   \n",
       "50135369              0.0                0.0              0.0   \n",
       "50135375              0.0                0.0              0.0   \n",
       "50135425              0.0                0.0              0.0   \n",
       "\n",
       "          Med_Code_zonisamide  Med_Code_zyprexa  Med_Code_zyrtec       DoB  \\\n",
       "RUID                                                                         \n",
       "50135262                  0.0               0.0              0.0  0.266667   \n",
       "50135361                  0.0               0.0              0.0 -0.066667   \n",
       "50135369                  0.0               0.0              0.0 -0.800000   \n",
       "50135375                  0.0               0.0              0.0 -1.000000   \n",
       "50135425                  0.0               0.0              0.0 -0.933333   \n",
       "\n",
       "               MoB       YoB  \n",
       "RUID                          \n",
       "50135262  0.333333 -0.342857  \n",
       "50135361 -0.833333 -0.828571  \n",
       "50135369 -0.333333 -0.085714  \n",
       "50135375 -0.333333 -0.514286  \n",
       "50135425  0.500000 -0.428571  \n",
       "\n",
       "[5 rows x 3017 columns]"
      ]
     },
     "execution_count": 88,
     "metadata": {},
     "output_type": "execute_result"
    }
   ],
   "source": [
    "dataIn.head()"
   ]
  },
  {
   "cell_type": "code",
   "execution_count": 90,
   "metadata": {},
   "outputs": [],
   "source": [
    "X_train_3, X_test_3, y_train_3, y_test_3 = model_selection.train_test_split(dataIn, readmit, test_size=0.2, random_state=0)"
   ]
  },
  {
   "cell_type": "code",
   "execution_count": 91,
   "metadata": {},
   "outputs": [],
   "source": [
    "logreg_3 = LogisticRegression(solver='lbfgs',max_iter=20000,n_jobs=8)"
   ]
  },
  {
   "cell_type": "code",
   "execution_count": 93,
   "metadata": {},
   "outputs": [
    {
     "data": {
      "text/plain": [
       "array([0.74348958, 0.75260417, 0.74054759, 0.75488918, 0.73142112])"
      ]
     },
     "execution_count": 93,
     "metadata": {},
     "output_type": "execute_result"
    }
   ],
   "source": [
    "scores_log_reg_3 = model_selection.cross_val_score(logreg_3, X_train_3, y_train_3, cv=5)\n",
    "scores_log_reg_3"
   ]
  },
  {
   "cell_type": "code",
   "execution_count": 94,
   "metadata": {},
   "outputs": [
    {
     "data": {
      "text/plain": [
       "LogisticRegression(C=1.0, class_weight=None, dual=False, fit_intercept=True,\n",
       "          intercept_scaling=1, max_iter=20000, multi_class='warn',\n",
       "          n_jobs=8, penalty='l2', random_state=None, solver='lbfgs',\n",
       "          tol=0.0001, verbose=0, warm_start=False)"
      ]
     },
     "execution_count": 94,
     "metadata": {},
     "output_type": "execute_result"
    }
   ],
   "source": [
    "logreg_3.fit(X_train_3,y_train_3)"
   ]
  },
  {
   "cell_type": "code",
   "execution_count": 95,
   "metadata": {},
   "outputs": [],
   "source": [
    "pred_3_log=logreg_3.predict(X_test_3)"
   ]
  },
  {
   "cell_type": "code",
   "execution_count": 129,
   "metadata": {},
   "outputs": [],
   "source": [
    "logreg_3_score=logreg_3.score(X_test_3, y_test_3)"
   ]
  },
  {
   "cell_type": "code",
   "execution_count": 130,
   "metadata": {},
   "outputs": [],
   "source": [
    "logreg_3_confusion=confusion_matrix(y_test_3, pred_3_log)"
   ]
  },
  {
   "cell_type": "markdown",
   "metadata": {},
   "source": [
    "__Support Vector Classifier__\n",
    "\n",
    "Slow and poor performance with an SVC, even after using GridSearchCV to find more optimal hyperparameters, similar to data partitioning strategy 2."
   ]
  },
  {
   "cell_type": "code",
   "execution_count": 179,
   "metadata": {},
   "outputs": [
    {
     "data": {
      "text/plain": [
       "0.5458333333333333"
      ]
     },
     "execution_count": 179,
     "metadata": {},
     "output_type": "execute_result"
    }
   ],
   "source": [
    "svc_rbf_3 = svm.SVC(kernel='rbf', gamma=10,random_state=42)\n",
    "svc_rbf_3.fit(X_train_3,y_train_3)\n",
    "svc_rbf_3.score(X_test_3,y_test_3)"
   ]
  },
  {
   "cell_type": "code",
   "execution_count": 180,
   "metadata": {},
   "outputs": [
    {
     "data": {
      "text/plain": [
       "array([0.56380208, 0.56380208, 0.56323338, 0.56323338, 0.56323338])"
      ]
     },
     "execution_count": 180,
     "metadata": {},
     "output_type": "execute_result"
    }
   ],
   "source": [
    "svc_rbf_3_scores = model_selection.cross_val_score(svc_rbf_3, X_train_3, y_train_3, cv=5,n_jobs=8)\n",
    "svc_rbf_3_scores"
   ]
  },
  {
   "cell_type": "code",
   "execution_count": 181,
   "metadata": {},
   "outputs": [],
   "source": [
    "gamma = [0.001,0.01,1,10]\n",
    "\n",
    "svc_parameter_grid_3 = {'gamma': gamma}"
   ]
  },
  {
   "cell_type": "code",
   "execution_count": 182,
   "metadata": {},
   "outputs": [
    {
     "name": "stdout",
     "output_type": "stream",
     "text": [
      "Fitting 5 folds for each of 4 candidates, totalling 20 fits\n"
     ]
    },
    {
     "name": "stderr",
     "output_type": "stream",
     "text": [
      "[Parallel(n_jobs=8)]: Using backend LokyBackend with 8 concurrent workers.\n",
      "[Parallel(n_jobs=8)]: Done  12 out of  20 | elapsed:  4.7min remaining:  3.1min\n",
      "[Parallel(n_jobs=8)]: Done  20 out of  20 | elapsed:  6.2min finished\n"
     ]
    },
    {
     "data": {
      "text/plain": [
       "GridSearchCV(cv=5, error_score='raise-deprecating',\n",
       "       estimator=SVC(C=1.0, cache_size=200, class_weight=None, coef0=0.0,\n",
       "  decision_function_shape='ovr', degree=3, gamma=10, kernel='rbf',\n",
       "  max_iter=-1, probability=False, random_state=42, shrinking=True,\n",
       "  tol=0.001, verbose=False),\n",
       "       fit_params=None, iid='warn', n_jobs=8,\n",
       "       param_grid={'gamma': [0.001, 0.01, 1, 10]}, pre_dispatch='2*n_jobs',\n",
       "       refit=True, return_train_score='warn', scoring=None, verbose=3)"
      ]
     },
     "execution_count": 182,
     "metadata": {},
     "output_type": "execute_result"
    }
   ],
   "source": [
    "svc_rbf_cv_3=GridSearchCV(estimator=svc_rbf_3, param_grid=svc_parameter_grid_3, n_jobs=8, verbose=3, cv=5)\n",
    "svc_rbf_cv_3.fit(X_train_3, y_train_3)"
   ]
  },
  {
   "cell_type": "code",
   "execution_count": 183,
   "metadata": {},
   "outputs": [
    {
     "data": {
      "text/plain": [
       "{'gamma': 0.01}"
      ]
     },
     "execution_count": 183,
     "metadata": {},
     "output_type": "execute_result"
    }
   ],
   "source": [
    "svc_rbf_cv_3.best_params_"
   ]
  },
  {
   "cell_type": "code",
   "execution_count": 203,
   "metadata": {},
   "outputs": [],
   "source": [
    "pred_3_svc_rbf_cv=svc_rbf_cv_3.predict(X_test_3)"
   ]
  },
  {
   "cell_type": "code",
   "execution_count": 204,
   "metadata": {},
   "outputs": [],
   "source": [
    "svc_rbf_cv_3_score=svc_rbf_cv_3.score(X_test_3, y_test_3)"
   ]
  },
  {
   "cell_type": "code",
   "execution_count": 205,
   "metadata": {},
   "outputs": [],
   "source": [
    "svc_rbf_cv_3_confusion=confusion_matrix(y_test_3, pred_3_svc_rbf_cv)"
   ]
  },
  {
   "cell_type": "code",
   "execution_count": 206,
   "metadata": {},
   "outputs": [
    {
     "data": {
      "text/plain": [
       "0.7614583333333333"
      ]
     },
     "execution_count": 206,
     "metadata": {},
     "output_type": "execute_result"
    }
   ],
   "source": [
    "svc_rbf_cv_3_score"
   ]
  },
  {
   "cell_type": "code",
   "execution_count": 207,
   "metadata": {},
   "outputs": [
    {
     "data": {
      "text/plain": [
       "array([[453,  71],\n",
       "       [158, 278]])"
      ]
     },
     "execution_count": 207,
     "metadata": {},
     "output_type": "execute_result"
    }
   ],
   "source": [
    "svc_rbf_cv_3_confusion"
   ]
  },
  {
   "cell_type": "markdown",
   "metadata": {},
   "source": [
    "__Random Forest Classifier__\n",
    "\n",
    "Went right into GridSearchCV due to the number of hyperparameters to optimize, then visualized the top 30 classifiers. Performance was about the same if not better than data partitioning strategy 1."
   ]
  },
  {
   "cell_type": "code",
   "execution_count": 111,
   "metadata": {},
   "outputs": [],
   "source": [
    "n_estimators = [10,11,12,13,14,15]\n",
    "max_depth = [6,7,8,9,10]\n",
    "max_features = [10,15,20,25,30]\n",
    "\n",
    "parameter_grid_3 = {'n_estimators': n_estimators,\n",
    "               'max_depth': max_depth,\n",
    "               'max_features': max_features}"
   ]
  },
  {
   "cell_type": "code",
   "execution_count": 112,
   "metadata": {},
   "outputs": [
    {
     "name": "stdout",
     "output_type": "stream",
     "text": [
      "Fitting 5 folds for each of 150 candidates, totalling 750 fits\n"
     ]
    },
    {
     "name": "stderr",
     "output_type": "stream",
     "text": [
      "[Parallel(n_jobs=8)]: Using backend LokyBackend with 8 concurrent workers.\n",
      "[Parallel(n_jobs=8)]: Done  16 tasks      | elapsed:    1.3s\n",
      "[Parallel(n_jobs=8)]: Done 112 tasks      | elapsed:    7.3s\n",
      "[Parallel(n_jobs=8)]: Done 272 tasks      | elapsed:   17.0s\n",
      "[Parallel(n_jobs=8)]: Done 496 tasks      | elapsed:   30.4s\n",
      "[Parallel(n_jobs=8)]: Done 750 out of 750 | elapsed:   45.3s finished\n"
     ]
    },
    {
     "data": {
      "text/plain": [
       "GridSearchCV(cv=5, error_score='raise-deprecating',\n",
       "       estimator=RandomForestClassifier(bootstrap=True, class_weight=None, criterion='entropy',\n",
       "            max_depth=None, max_features='auto', max_leaf_nodes=None,\n",
       "            min_impurity_decrease=0.0, min_impurity_split=None,\n",
       "            min_samples_leaf=1, min_samples_split=2,\n",
       "            min_weight_fraction_leaf=0.0, n_estimators='warn', n_jobs=8,\n",
       "            oob_score=False, random_state=42, verbose=0, warm_start=False),\n",
       "       fit_params=None, iid='warn', n_jobs=8,\n",
       "       param_grid={'n_estimators': [10, 11, 12, 13, 14, 15], 'max_depth': [6, 7, 8, 9, 10], 'max_features': [10, 15, 20, 25, 30]},\n",
       "       pre_dispatch='2*n_jobs', refit=True, return_train_score='warn',\n",
       "       scoring=None, verbose=3)"
      ]
     },
     "execution_count": 112,
     "metadata": {},
     "output_type": "execute_result"
    }
   ],
   "source": [
    "rf_3 = RandomForestClassifier(n_jobs=8, criterion='entropy',random_state=42) #default criterion\n",
    "rf_cv_3 = GridSearchCV(estimator=rf_3, param_grid=parameter_grid_3, n_jobs=8, verbose=3, cv=5,)\n",
    "rf_cv_3.fit(X_train_3, y_train_3)"
   ]
  },
  {
   "cell_type": "code",
   "execution_count": 113,
   "metadata": {},
   "outputs": [
    {
     "data": {
      "text/plain": [
       "{'max_depth': 9, 'max_features': 20, 'n_estimators': 13}"
      ]
     },
     "execution_count": 113,
     "metadata": {},
     "output_type": "execute_result"
    }
   ],
   "source": [
    "rf_cv_3.best_params_"
   ]
  },
  {
   "cell_type": "code",
   "execution_count": 238,
   "metadata": {},
   "outputs": [],
   "source": [
    "top30feats_3=np.argsort(rf_cv_3.best_estimator_.feature_importances_)[::-1][0:30]"
   ]
  },
  {
   "cell_type": "code",
   "execution_count": 239,
   "metadata": {},
   "outputs": [
    {
     "data": {
      "text/plain": [
       "<matplotlib.axes._subplots.AxesSubplot at 0x166fd1400>"
      ]
     },
     "execution_count": 239,
     "metadata": {},
     "output_type": "execute_result"
    },
    {
     "data": {
      "image/png": "[encoded data removed]",
      "text/plain": [
       "<Figure size 1440x576 with 1 Axes>"
      ]
     },
     "metadata": {
      "needs_background": "light"
     },
     "output_type": "display_data"
    }
   ],
   "source": [
    "plt.figure(figsize=(20,8))\n",
    "pd.Series(rf_cv_3.best_estimator_.feature_importances_[top30feats_3], index=X_train_3.columns[top30feats_3]).sort_values().plot.barh()"
   ]
  },
  {
   "cell_type": "code",
   "execution_count": 214,
   "metadata": {},
   "outputs": [],
   "source": [
    "pred_3_rf_cv=rf_cv_3.predict(X_test_3)"
   ]
  },
  {
   "cell_type": "code",
   "execution_count": 215,
   "metadata": {},
   "outputs": [],
   "source": [
    "rf_cv_3_score=rf_cv_3.score(X_test_3, y_test_3)"
   ]
  },
  {
   "cell_type": "code",
   "execution_count": 216,
   "metadata": {},
   "outputs": [],
   "source": [
    "rf_cv_3_confusion=confusion_matrix(y_test_3, pred_3_rf_cv)"
   ]
  },
  {
   "cell_type": "markdown",
   "metadata": {},
   "source": [
    "## Conclusion"
   ]
  },
  {
   "cell_type": "code",
   "execution_count": 217,
   "metadata": {},
   "outputs": [],
   "source": [
    "accuracy_scores=pd.DataFrame([[logreg_1_score,logreg_2_score,logreg_3_score],[svc_rbf_cv_1_score,svc_rbf_cv_2_score,svc_rbf_cv_3_score],[rf_cv_1_score,rf_cv_2_score,rf_cv_3_score]])"
   ]
  },
  {
   "cell_type": "code",
   "execution_count": 236,
   "metadata": {},
   "outputs": [],
   "source": [
    "accuracy_scores.columns=['Partition Strategy 1','Partition Strategy 2','Partition Strategy 3']\n",
    "accuracy_scores.index=['Logistic Regression CV','RBF SVC GridsearchCV','Random Forest GridsearchCV']"
   ]
  },
  {
   "cell_type": "code",
   "execution_count": 237,
   "metadata": {},
   "outputs": [
    {
     "data": {
      "text/html": [
       "<div>\n",
       "<style scoped>\n",
       "    .dataframe tbody tr th:only-of-type {\n",
       "        vertical-align: middle;\n",
       "    }\n",
       "\n",
       "    .dataframe tbody tr th {\n",
       "        vertical-align: top;\n",
       "    }\n",
       "\n",
       "    .dataframe thead th {\n",
       "        text-align: right;\n",
       "    }\n",
       "</style>\n",
       "<table border=\"1\" class=\"dataframe\">\n",
       "  <thead>\n",
       "    <tr style=\"text-align: right;\">\n",
       "      <th></th>\n",
       "      <th>Partition Strategy 1</th>\n",
       "      <th>Partition Strategy 2</th>\n",
       "      <th>Partition Strategy 3</th>\n",
       "    </tr>\n",
       "  </thead>\n",
       "  <tbody>\n",
       "    <tr>\n",
       "      <th>Logistic Regression CV</th>\n",
       "      <td>0.770833</td>\n",
       "      <td>0.658333</td>\n",
       "      <td>0.751042</td>\n",
       "    </tr>\n",
       "    <tr>\n",
       "      <th>RBF SVC GridsearchCV</th>\n",
       "      <td>0.760417</td>\n",
       "      <td>0.629167</td>\n",
       "      <td>0.761458</td>\n",
       "    </tr>\n",
       "    <tr>\n",
       "      <th>Random Forest GridsearchCV</th>\n",
       "      <td>0.780208</td>\n",
       "      <td>0.547917</td>\n",
       "      <td>0.768750</td>\n",
       "    </tr>\n",
       "  </tbody>\n",
       "</table>\n",
       "</div>"
      ],
      "text/plain": [
       "                            Partition Strategy 1  Partition Strategy 2  \\\n",
       "Logistic Regression CV                  0.770833              0.658333   \n",
       "RBF SVC GridsearchCV                    0.760417              0.629167   \n",
       "Random Forest GridsearchCV              0.780208              0.547917   \n",
       "\n",
       "                            Partition Strategy 3  \n",
       "Logistic Regression CV                  0.751042  \n",
       "RBF SVC GridsearchCV                    0.761458  \n",
       "Random Forest GridsearchCV              0.768750  "
      ]
     },
     "execution_count": 237,
     "metadata": {},
     "output_type": "execute_result"
    }
   ],
   "source": [
    "accuracy_scores"
   ]
  },
  {
   "cell_type": "markdown",
   "metadata": {},
   "source": [
    "These are the results for the 9 combinations of strategies that I attempted. It seems that my hypothesis regarding Partition Strategy 2 was likely false, across all three modeling strategies, predictions were the most inaccurate with the inclusion of only the encoded categorical features (CPT, ICD9, etc). Interestingly, datasets that went into model training that had included the continuous variable features (BMI, BP, etc.) seemed to perform fairly well, even with the additional inclusion of the encoded categorical features. Although RBF SVC GridsearchCV had similar marginal performance with the other modeling strategies, the training and optimization time was a times worse. In the end, I would likely stick to using Logistic Regression or Random Forest Classifiers for their speed and accuracy. Notably, the accuracy of Partition Strategy 1 (including mostly continuous variable features), was slightly higher than Partition Strategy 3. This is likely because of the amount of sparse data and noise added to the data by including a few thousand more sparse features that had to encode categorical features. The most important features, as we can see in the feature_importance barplots, for Partition Strategy 3 remain primarily the continuous variable features (many of which overlap with Partition Strategy 1). This raises the importance of features to be used during the training of a model and how different training methods perform differently with different types of features."
   ]
  },
  {
   "cell_type": "code",
   "execution_count": 227,
   "metadata": {},
   "outputs": [],
   "source": [
    "top10feats_1=np.argsort(rf_cv_1.best_estimator_.feature_importances_)[::-1][0:10]\n",
    "top10feats_2=np.argsort(rf_cv_2.best_estimator_.feature_importances_)[::-1][0:10]\n",
    "top10feats_3=np.argsort(rf_cv_3.best_estimator_.feature_importances_)[::-1][0:10]"
   ]
  },
  {
   "cell_type": "code",
   "execution_count": 231,
   "metadata": {},
   "outputs": [
    {
     "data": {
      "text/plain": [
       "<matplotlib.axes._subplots.AxesSubplot at 0x13188d1d0>"
      ]
     },
     "execution_count": 231,
     "metadata": {},
     "output_type": "execute_result"
    },
    {
     "data": {
      "image/png": "[encoded data removed]",
      "text/plain": [
       "<Figure size 720x360 with 1 Axes>"
      ]
     },
     "metadata": {
      "needs_background": "light"
     },
     "output_type": "display_data"
    }
   ],
   "source": [
    "plt.figure(figsize=(10,5))\n",
    "pd.Series(rf_cv_1.best_estimator_.feature_importances_[top10feats_1], index=X_train_1.columns[top10feats_1]).sort_values().plot.barh()"
   ]
  },
  {
   "cell_type": "code",
   "execution_count": 232,
   "metadata": {},
   "outputs": [
    {
     "data": {
      "text/plain": [
       "<matplotlib.axes._subplots.AxesSubplot at 0x15df83518>"
      ]
     },
     "execution_count": 232,
     "metadata": {},
     "output_type": "execute_result"
    },
    {
     "data": {
      "image/png": "[encoded data removed]",
      "text/plain": [
       "<Figure size 720x360 with 1 Axes>"
      ]
     },
     "metadata": {
      "needs_background": "light"
     },
     "output_type": "display_data"
    }
   ],
   "source": [
    "plt.figure(figsize=(10,5))\n",
    "pd.Series(rf_cv_2.best_estimator_.feature_importances_[top10feats_2], index=X_train_2.columns[top10feats_2]).sort_values().plot.barh()"
   ]
  },
  {
   "cell_type": "code",
   "execution_count": 233,
   "metadata": {},
   "outputs": [
    {
     "data": {
      "text/plain": [
       "<matplotlib.axes._subplots.AxesSubplot at 0x15df83b00>"
      ]
     },
     "execution_count": 233,
     "metadata": {},
     "output_type": "execute_result"
    },
    {
     "data": {
      "image/png": "[encoded data removed]",
      "text/plain": [
       "<Figure size 720x360 with 1 Axes>"
      ]
     },
     "metadata": {
      "needs_background": "light"
     },
     "output_type": "display_data"
    }
   ],
   "source": [
    "plt.figure(figsize=(10,5))\n",
    "pd.Series(rf_cv_3.best_estimator_.feature_importances_[top10feats_3], index=X_train_3.columns[top10feats_3]).sort_values().plot.barh()"
   ]
  },
  {
   "cell_type": "markdown",
   "metadata": {},
   "source": [
    "## Future directions and retrospective"
   ]
  },
  {
   "cell_type": "markdown",
   "metadata": {},
   "source": [
    "Again, my goal with these strategies was to train a model that could predict, if given some features, whether or not a patient has experienced a readmission event within 30 days of being discharged. Given the combinations of partitioning strategies and training methods, __I observed a high of 0.78 accuracy with an optimized Random Forest Classifier with a subset of the features of the entire dataset.__\n",
    "\n",
    "However, this is all relative primarily to how I chose to encode the target variable: A set of booleans simply indicating whether or not a patient, in their entire available medical record, has experience any instance of being readmitted within 30 days of being discharged. This, in retrospect, is extremely limiting in predictive power. In essence, it likely cannot be used to predict future instances of readmission within 30 days. __All my trained models can only predict is wether or not, given some features, a patient has ever experienced a readmission event.__ \n",
    "\n",
    "Ways that I would improve these models is to incorporate the in depth analysis of time windows just before readmission events, something not included in the final target variable (though I did record 30 day readmission dates in my preprocessing steps). With this information, I would be able build predictive models for windows of time into the future. Date information was also included in the datasets containing mostly categorical data, so reasonably, this time window incorporated model could be implemented. In addition, with respect to this consideration of time, the rate of change or frequency of continuous values over time could have been useful to incorporate, but I collapsed most of these values into single, descriptive statistics.\n",
    "\n",
    "Finally, I dropped a significant amount of rich MED and LAB data due to their heterogeneity. The change of these values over time could likely have been informative."
   ]
  }
 ],
 "metadata": {
  "kernelspec": {
   "display_name": "Python 3",
   "language": "python",
   "name": "python3"
  },
  "language_info": {
   "codemirror_mode": {
    "name": "ipython",
    "version": 3
   },
   "file_extension": ".py",
   "mimetype": "text/x-python",
   "name": "python",
   "nbconvert_exporter": "python",
   "pygments_lexer": "ipython3",
   "version": "3.7.1"
  }
 },
 "nbformat": 4,
 "nbformat_minor": 2
}
